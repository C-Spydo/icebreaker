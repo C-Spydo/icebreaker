{
 "cells": [
  {
   "cell_type": "code",
   "execution_count": null,
   "metadata": {},
   "outputs": [],
   "source": [
    "from app.constants import GROQ_API_KEY"
   ]
  }
 ],
 "metadata": {
  "kernelspec": {
   "display_name": "zeta-venv",
   "language": "python",
   "name": "python3"
  },
  "language_info": {
   "name": "python",
   "version": "3.9.13"
  }
 },
 "nbformat": 4,
 "nbformat_minor": 2
}
